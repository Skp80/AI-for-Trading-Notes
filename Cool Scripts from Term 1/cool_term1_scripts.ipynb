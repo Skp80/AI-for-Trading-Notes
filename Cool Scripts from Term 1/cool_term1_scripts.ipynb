{
 "cells": [
  {
   "cell_type": "markdown",
   "metadata": {},
   "source": [
    "## Cool Python Scripts from Term 1\n",
    "This notebook has a collection of some cool and important python scripts found in the Term 1 of Udacity's AI for Trading Nano-Degree Program. <br/>\n",
    "_Do not try to __EXECUTE__ code in this notebook. This notebook is not designed to run the code given below._"
   ]
  },
  {
   "cell_type": "markdown",
   "metadata": {},
   "source": [
    "### 1. Quiz: Stock Data\n",
    "When the pandas dataframe looks like this, "
   ]
  },
  {
   "cell_type": "raw",
   "metadata": {},
   "source": [
    "\tticker\tdate\topen\thigh\tlow\t    close\t volume\t  adj_close\tadj_volume\n",
    "0\tABC\t2017-09-05\t163.09\t164.24\t160.21\t162.63\t29417590.0\t162.49\t29414672.0\n",
    "1\tABC\t2017-09-06\t162.85\t162.46\t159.99\t161.13\t21131267.0\t162.44\t21169319.0\n",
    "2\tABC\t2017-09-07\t162.11\t162.70\t160.65\t161.26\t21722502.0\t161.46\t21719856.0\n",
    "3\tABC\t2017-09-08\t160.41\t160.89\t159.31\t158.05\t28311012.0\t158.26\t28305810.0\n",
    "4\tABC\t2017-09-11\t161.09\t162.14\t159.54\t161.29\t31075573.0\t160.97\t31163734.0\n",
    "5\tABC\t2017-09-12\t162.54\t164.61\t159.52\t161.09\t70921229.0\t160.62\t71097150.0\n",
    "6\tABC\t2017-09-13\t160.01\t160.51\t158.22\t159.29\t44580353.0\t159.07\t44260255.0\n",
    "7\tEFG\t2017-09-05\t154.45\t154.69\t153.17\t154.52\t1270203.0\t153.58\t1270679.0\n",
    "8\tEFG\t2017-09-06\t155.03\t155.14\t153.89\t154.45\t1195987.0\t154.06\t1196107.0\n",
    "9\tEFG\t2017-09-07\t154.73\t155.36\t153.60\t155.68\t1420730.0\t155.60\t1409098.0\n",
    "10\tEFG\t2017-09-08\t156.01\t155.91\t154.17\t155.86\t1438929.0\t156.08\t1445338.0\n",
    "11\tEFG\t2017-09-11\t157.07\t157.71\t155.93\t157.17\t1608840.0\t156.70\t1610357.0\n",
    "12\tEFG\t2017-09-12\t155.98\t156.72\t154.28\t156.71\t1692197.0\t156.86\t1687819.0\n",
    "13\tEFG\t2017-09-13\t156.40\t157.07\t155.68\t155.54\t1211779.0\t155.85\t1210716.0\n",
    "14\tXYZ\t2017-09-05\t63.90\t64.51\t63.13\t63.95\t1738651.0\t63.33\t1733249.0\n",
    "15\tXYZ\t2017-09-06\t63.85\t63.65\t61.72\t62.23\t3730110.0\t61.95\t3725435.0"
   ]
  },
  {
   "cell_type": "markdown",
   "metadata": {},
   "source": [
    "Use the code below to pivot and analyze the open/high/close etc prices of each stock,  "
   ]
  },
  {
   "cell_type": "code",
   "execution_count": null,
   "metadata": {},
   "outputs": [],
   "source": [
    "open_prices = price_df.pivot(index='date', columns='ticker', values='open')\n",
    "high_prices = price_df.pivot(index='date', columns='ticker', values='high')\n",
    "low_prices = price_df.pivot(index='date', columns='ticker', values='low')\n",
    "close_prices = price_df.pivot(index='date', columns='ticker', values='close')\n",
    "volume = price_df.pivot(index='date', columns='ticker', values='volume')\n",
    "adj_close_prices = price_df.pivot(index='date', columns='ticker', values='adj_close')\n",
    "adj_volume = price_df.pivot(index='date', columns='ticker', values='adj_volume')\n",
    "\n",
    "open_prices"
   ]
  },
  {
   "cell_type": "raw",
   "metadata": {},
   "source": [
    "ticker\t      ABC\t  EFG\tXYZ\n",
    "date\t\t\t\n",
    "2017-09-05\t163.09\t154.45\t63.90\n",
    "2017-09-06\t162.85\t155.03\t63.85\n",
    "2017-09-07\t162.11\t154.73\t61.97\n",
    "2017-09-08\t160.41\t156.01\t60.36\n",
    "2017-09-11\t161.09\t157.07\t60.04\n",
    "2017-09-12\t162.54\t155.98\t58.19\n",
    "2017-09-13\t160.01\t156.40\t59.01"
   ]
  },
  {
   "cell_type": "markdown",
   "metadata": {},
   "source": [
    "### 2. Quiz: Resample Data\n",
    "You can always resample the data in different tme buckets,  "
   ]
  },
  {
   "cell_type": "code",
   "execution_count": null,
   "metadata": {},
   "outputs": [],
   "source": [
    "open_resample = open_prices.resample('W').first()\n",
    "high_resample = high_prices.resample('W').max()\n",
    "low_resample = low_prices.resample('W').min()\n",
    "close_resample = close_prices.resample('W').last()"
   ]
  },
  {
   "cell_type": "markdown",
   "metadata": {},
   "source": [
    "### 3. Quiz: Calculate Returns\n",
    "Calculating stock returns over a certain period of time using _shift_. <br/>\n",
    "_shift_ function allows us to shift the rows of data. For example, the following shifts the rows in `close` two days back.<br/>\n",
    "`close.shift(2)`<br/>\n",
    "Use this function, you can also shift in the future using a negative number. Let's shift one day in the future.<br/>\n",
    "`close.shift(-1)`"
   ]
  },
  {
   "cell_type": "code",
   "execution_count": null,
   "metadata": {},
   "outputs": [],
   "source": [
    "def calculate_returns(close):\n",
    "    \"\"\"\n",
    "    Compute returns for each ticker and date in close.\n",
    "    \n",
    "    Parameters\n",
    "    ----------\n",
    "    close : DataFrame\n",
    "        Close prices for each ticker and date\n",
    "    \n",
    "    Returns\n",
    "    -------\n",
    "    returns : DataFrame\n",
    "        Returns for each ticker and date\n",
    "    \"\"\"\n",
    "    return (close - close.shift(1))/close.shift(1)"
   ]
  },
  {
   "cell_type": "markdown",
   "metadata": {},
   "source": [
    "### 4. Quiz: Calculating top and bottom performing stocks\n",
    "Calculate the top 2 best and worst performing stocks of the month through _.nLargest(**n**)_ method. "
   ]
  },
  {
   "cell_type": "code",
   "execution_count": null,
   "metadata": {},
   "outputs": [],
   "source": [
    "close_month.loc[month].nlargest(2) # Top performers\n",
    "(-1 * close_month).loc[month].nlargest(2) # Bottom performers "
   ]
  },
  {
   "cell_type": "markdown",
   "metadata": {},
   "source": [
    "### 5. Project: Trading with Momentum\n",
    "Reading from a CSV file, telling Pandas to parse dates, then resetting the index and arranging everything the way it should be. "
   ]
  },
  {
   "cell_type": "code",
   "execution_count": null,
   "metadata": {},
   "outputs": [],
   "source": [
    "df = pd.read_csv('../../data/project_1/eod-quotemedia.csv', parse_dates=['date'], index_col=False)\n",
    "\n",
    "close = df.reset_index().pivot(index='date', columns='ticker', values='adj_close')"
   ]
  },
  {
   "cell_type": "markdown",
   "metadata": {},
   "source": [
    "### 6. Normality \n",
    "Using scipy to create normal and non-normal distributions, making plots (box/QQ/histograms) and conducting tests (Shapiro-Wilk/KS tests) to check for normality. "
   ]
  },
  {
   "cell_type": "code",
   "execution_count": null,
   "metadata": {},
   "outputs": [],
   "source": [
    "import numpy as np\n",
    "import pandas as pd\n",
    "import scipy.stats as stats\n",
    "import matplotlib.pyplot as plt\n",
    "\n",
    "# Set plotting options\n",
    "%matplotlib inline\n",
    "plt.rc('figure', figsize=(16, 9))\n",
    "\n",
    "# Sample A: Normal distribution\n",
    "sample_a = stats.norm.rvs(loc=0.0, scale=1.0, size=(1000,))\n",
    "\n",
    "# Sample B: Non-normal distribution\n",
    "sample_b = stats.lognorm.rvs(s=0.5, loc=0.0, scale=1.0, size=(1000,))\n",
    "\n",
    "# Boxplot-Whisker Plot and Histogram\n",
    "# Sample A: Normal distribution\n",
    "sample_a = stats.norm.rvs(loc=0.0, scale=1.0, size=(1000,))\n",
    "fig, axes = plt.subplots(2, 1, figsize=(16, 9), sharex=True)\n",
    "axes[0].boxplot(sample_a, vert=False)\n",
    "axes[1].hist(sample_a, bins=50)\n",
    "axes[0].set_title(\"Boxplot of a Normal Distribution\");\n",
    "\n",
    "# Sample B: Non-normal distribution\n",
    "sample_b = stats.lognorm.rvs(s=0.5, loc=0.0, scale=1.0, size=(1000,))\n",
    "fig, axes = plt.subplots(2, 1, figsize=(16, 9), sharex=True)\n",
    "axes[0].boxplot(sample_b, vert=False)\n",
    "axes[1].hist(sample_b, bins=50)\n",
    "axes[0].set_title(\"Boxplot of a Lognormal Distribution\");\n",
    "\n",
    "# Q-Q plot of normally-distributed sample\n",
    "plt.figure(figsize=(10, 10)); plt.axis('equal')\n",
    "stats.probplot(sample_a, dist='norm', plot=plt);\n",
    "\n",
    "# Q-Q plot of non-normally-distributed sample\n",
    "plt.figure(figsize=(10, 10)); plt.axis('equal')\n",
    "stats.probplot(sample_b, dist='norm', plot=plt);\n",
    "\n",
    "# Shapiro-Wilk Test\n",
    "def is_normal(sample, test=stats.shapiro, p_level=0.05, **kwargs):\n",
    "    \"\"\"Apply a normality test to check if sample is normally distributed.\"\"\"\n",
    "    t_stat, p_value = test(sample, **kwargs)\n",
    "    print(\"Test statistic: {}, p-value: {}\".format(t_stat, p_value))\n",
    "    print(\"Is the distribution Likely Normal? {}\".format(p_value > p_level))\n",
    "    return p_value > p_level\n",
    "\n",
    "# Using Shapiro-Wilk test (default)\n",
    "print(\"Sample A:-\"); is_normal(sample_a);\n",
    "print(\"Sample B:-\"); is_normal(sample_b);\n",
    "\n",
    "# KS Test\n",
    "def is_normal_ks(sample, test=stats.kstest, p_level=0.05, **kwargs):\n",
    "    \"\"\"\n",
    "    sample: a sample distribution\n",
    "    test: a function that tests for normality\n",
    "    p_level: if the test returns a p-value > than p_level, assume normality\n",
    "    \n",
    "    return: True if distribution is normal, False otherwise\n",
    "    \"\"\"\n",
    "    normal_args = (np.mean(sample), np.std(sample))\n",
    "    \n",
    "    t_stat, p_value = test(sample, 'norm', normal_args, **kwargs)\n",
    "    print(\"Test statistic: {}, p-value: {}\".format(t_stat, p_value))\n",
    "    print(\"Is the distribution Likely Normal? {}\".format(p_value > p_level))\n",
    "    return p_value > p_level\n",
    "\n",
    "# Using Kolmogorov-Smirnov test\n",
    "print(\"Sample A:-\"); is_normal_ks(sample_a);\n",
    "print(\"Sample B:-\"); is_normal_ks(sample_b);"
   ]
  },
  {
   "cell_type": "markdown",
   "metadata": {},
   "source": [
    "### 7. Regression with Two Stocks\n",
    "Simulating stock prices - A very important skill indeed. "
   ]
  },
  {
   "cell_type": "code",
   "execution_count": null,
   "metadata": {},
   "outputs": [],
   "source": [
    "import pandas as pd\n",
    "import numpy as np\n",
    "import os\n",
    "import matplotlib.pyplot as plt\n",
    "\n",
    "plt.style.use('ggplot')\n",
    "plt.rcParams['figure.figsize'] = (14, 8)\n",
    "\n",
    "# Simulating two stock prices \n",
    "# just set the seed for the random number generator\n",
    "np.random.seed(100)\n",
    "# use returns to create a price series\n",
    "drift = 100\n",
    "r0 = pd.Series(np.random.normal(0, 1, 1000))\n",
    "s0 = pd.Series(np.cumsum(r0), name='s0') + drift\n",
    "\n",
    "noise1 = np.random.normal(0, 0.4, 1000)\n",
    "drift1 = 50\n",
    "r1 = r0 + noise1\n",
    "s1 = pd.Series(np.cumsum(r1), name='s1') + drift1\n",
    "\n",
    "noise2 = np.random.normal(0, 0.4, 1000)\n",
    "drift2 = 60\n",
    "r2 = r0 + noise2\n",
    "s2 = pd.Series(np.cumsum(r2), name='s2') + drift2\n",
    "\n",
    "pd.concat([s1, s2], axis=1).plot(figsize=(15,6))\n",
    "plt.show()"
   ]
  },
  {
   "cell_type": "markdown",
   "metadata": {},
   "source": [
    "### 8. ARMA and ARIMA \n",
    "Simlutaing a stock return series with _autocorrelation_ properties "
   ]
  },
  {
   "cell_type": "code",
   "execution_count": null,
   "metadata": {},
   "outputs": [],
   "source": [
    "import pandas as pd\n",
    "import numpy as np\n",
    "import os\n",
    "from statsmodels.tsa.arima_model import ARMA\n",
    "import matplotlib.pyplot as plt\n",
    "import seaborn as sns\n",
    "\n",
    "sns.set()\n",
    "#note that for the figure size to show, this cell should be run\n",
    "#separately from the import of pyplot\n",
    "plt.style.use('ggplot')\n",
    "plt.rcParams['figure.figsize'] = (14, 8)\n",
    "\n",
    "# Simulate return series with autoregressive properties\n",
    "from statsmodels.tsa.arima_process import ArmaProcess\n",
    "np.random.seed(200)\n",
    "\n",
    "ar_params = np.array([1, -0.5])\n",
    "ma_params = np.array([1, -0.3])\n",
    "ret = ArmaProcess(ar_params, ma_params).generate_sample(nsample=5*252)\n",
    "\n",
    "ret = pd.Series(ret)\n",
    "drift = 100\n",
    "price = pd.Series(np.cumsum(ret)) + drift\n",
    "\n",
    "ret.plot(figsize=(15,6), color=sns.xkcd_rgb[\"pale purple\"], title=\"simulated return series\")\n",
    "plt.show()\n",
    "\n",
    "price.plot(figsize=(15,6), color=sns.xkcd_rgb[\"baby blue\"], title=\"simulated price series\")\n",
    "plt.show()"
   ]
  },
  {
   "cell_type": "markdown",
   "metadata": {},
   "source": []
  }
 ],
 "metadata": {
  "kernelspec": {
   "display_name": "Python 3",
   "language": "python",
   "name": "python3"
  },
  "language_info": {
   "codemirror_mode": {
    "name": "ipython",
    "version": 3
   },
   "file_extension": ".py",
   "mimetype": "text/x-python",
   "name": "python",
   "nbconvert_exporter": "python",
   "pygments_lexer": "ipython3",
   "version": "3.6.3"
  }
 },
 "nbformat": 4,
 "nbformat_minor": 2
}
